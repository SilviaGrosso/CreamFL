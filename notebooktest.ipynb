{
 "cells": [
  {
   "cell_type": "markdown",
   "metadata": {},
   "source": [
    "### Libraries"
   ]
  },
  {
   "cell_type": "code",
   "execution_count": 5,
   "metadata": {},
   "outputs": [],
   "source": [
    "import os\n",
    "import zipfile\n",
    "import shutil"
   ]
  },
  {
   "cell_type": "markdown",
   "metadata": {},
   "source": [
    "### Data Preprocessing"
   ]
  },
  {
   "cell_type": "code",
   "execution_count": 2,
   "metadata": {},
   "outputs": [
    {
     "data": {
      "text/plain": [
       "'/home2/sgrosso'"
      ]
     },
     "execution_count": 2,
     "metadata": {},
     "output_type": "execute_result"
    }
   ],
   "source": [
    "os.environ['HOME']"
   ]
  },
  {
   "cell_type": "code",
   "execution_count": 16,
   "metadata": {},
   "outputs": [],
   "source": [
    "zip_path = \"imgs/flickr30k_images (1).zip\"  # Replace \"file.zip\" with the actual name of your ZIP file\n",
    "\n",
    "with zipfile.ZipFile(zip_path, 'r') as zip_ref:\n",
    "    zip_ref.extractall()\n"
   ]
  },
  {
   "cell_type": "code",
   "execution_count": 18,
   "metadata": {},
   "outputs": [],
   "source": [
    "zip_path = \"data/archive.zip\"  # Replace \"file.zip\" with the actual name of your ZIP file\n",
    "\n",
    "with zipfile.ZipFile(zip_path, 'r') as zip_ref:\n",
    "    zip_ref.extractall()\n"
   ]
  },
  {
   "cell_type": "code",
   "execution_count": 19,
   "metadata": {},
   "outputs": [],
   "source": [
    "zip_path = \"data/mmdata/MSCOCO/2014/annotations_trainval2014.zip\"  # Replace \"file.zip\" with the actual name of your ZIP file\n",
    "\n",
    "with zipfile.ZipFile(zip_path, 'r') as zip_ref:\n",
    "    zip_ref.extractall()\n",
    "\n"
   ]
  },
  {
   "cell_type": "code",
   "execution_count": 4,
   "metadata": {},
   "outputs": [
    {
     "ename": "FileNotFoundError",
     "evalue": "[Errno 2] No such file or directory: 'data/mmdata/MSCOCO/2014/train2014.zip'",
     "output_type": "error",
     "traceback": [
      "\u001b[0;31m---------------------------------------------------------------------------\u001b[0m",
      "\u001b[0;31mFileNotFoundError\u001b[0m                         Traceback (most recent call last)",
      "Cell \u001b[0;32mIn[4], line 8\u001b[0m\n\u001b[1;32m      5\u001b[0m destination_directory \u001b[39m=\u001b[39m \u001b[39m\"\u001b[39m\u001b[39mdata/mmdata/MSCOCO/2014/\u001b[39m\u001b[39m\"\u001b[39m  \u001b[39m# Replace with the desired destination directory\u001b[39;00m\n\u001b[1;32m      7\u001b[0m \u001b[39m# Extract the ZIP file to the destination directory\u001b[39;00m\n\u001b[0;32m----> 8\u001b[0m \u001b[39mwith\u001b[39;00m zipfile\u001b[39m.\u001b[39;49mZipFile(zip_file_path, \u001b[39m'\u001b[39;49m\u001b[39mr\u001b[39;49m\u001b[39m'\u001b[39;49m) \u001b[39mas\u001b[39;00m zip_ref:\n\u001b[1;32m      9\u001b[0m     zip_ref\u001b[39m.\u001b[39mextractall(destination_directory)\n",
      "File \u001b[0;32m~/anaconda3/envs/creamfl/lib/python3.9/zipfile.py:1248\u001b[0m, in \u001b[0;36mZipFile.__init__\u001b[0;34m(self, file, mode, compression, allowZip64, compresslevel, strict_timestamps)\u001b[0m\n\u001b[1;32m   1246\u001b[0m \u001b[39mwhile\u001b[39;00m \u001b[39mTrue\u001b[39;00m:\n\u001b[1;32m   1247\u001b[0m     \u001b[39mtry\u001b[39;00m:\n\u001b[0;32m-> 1248\u001b[0m         \u001b[39mself\u001b[39m\u001b[39m.\u001b[39mfp \u001b[39m=\u001b[39m io\u001b[39m.\u001b[39;49mopen(file, filemode)\n\u001b[1;32m   1249\u001b[0m     \u001b[39mexcept\u001b[39;00m \u001b[39mOSError\u001b[39;00m:\n\u001b[1;32m   1250\u001b[0m         \u001b[39mif\u001b[39;00m filemode \u001b[39min\u001b[39;00m modeDict:\n",
      "\u001b[0;31mFileNotFoundError\u001b[0m: [Errno 2] No such file or directory: 'data/mmdata/MSCOCO/2014/train2014.zip'"
     ]
    }
   ],
   "source": [
    "# Specify the path to the ZIP file\n",
    "zip_file_path = \"/home2/sgrosso/CreamFL/train2014.zip\"  # Replace with the actual path to your ZIP file\n",
    "\n",
    "# Specify the destination directory for extracted files\n",
    "destination_directory = \"data/mmdata/MSCOCO/2014/\"  # Replace with the desired destination directory\n",
    "\n",
    "# Extract the ZIP file to the destination directory\n",
    "with zipfile.ZipFile(zip_file_path, 'r') as zip_ref:\n",
    "    zip_ref.extractall(destination_directory)"
   ]
  },
  {
   "cell_type": "code",
   "execution_count": 3,
   "metadata": {},
   "outputs": [
    {
     "ename": "BadZipFile",
     "evalue": "File is not a zip file",
     "output_type": "error",
     "traceback": [
      "\u001b[0;31m---------------------------------------------------------------------------\u001b[0m",
      "\u001b[0;31mBadZipFile\u001b[0m                                Traceback (most recent call last)",
      "Cell \u001b[0;32mIn[3], line 8\u001b[0m\n\u001b[1;32m      5\u001b[0m destination_directory \u001b[39m=\u001b[39m \u001b[39m\"\u001b[39m\u001b[39mdata/mmdata/MSCOCO/2014/\u001b[39m\u001b[39m\"\u001b[39m  \u001b[39m# Replace with the desired destination directory\u001b[39;00m\n\u001b[1;32m      7\u001b[0m \u001b[39m# Extract the ZIP file to the destination directory\u001b[39;00m\n\u001b[0;32m----> 8\u001b[0m \u001b[39mwith\u001b[39;00m zipfile\u001b[39m.\u001b[39;49mZipFile(zip_file_path, \u001b[39m'\u001b[39;49m\u001b[39mr\u001b[39;49m\u001b[39m'\u001b[39;49m) \u001b[39mas\u001b[39;00m zip_ref:\n\u001b[1;32m      9\u001b[0m     zip_ref\u001b[39m.\u001b[39mextractall(destination_directory)\n",
      "File \u001b[0;32m~/anaconda3/envs/creamfl/lib/python3.9/zipfile.py:1266\u001b[0m, in \u001b[0;36mZipFile.__init__\u001b[0;34m(self, file, mode, compression, allowZip64, compresslevel, strict_timestamps)\u001b[0m\n\u001b[1;32m   1264\u001b[0m \u001b[39mtry\u001b[39;00m:\n\u001b[1;32m   1265\u001b[0m     \u001b[39mif\u001b[39;00m mode \u001b[39m==\u001b[39m \u001b[39m'\u001b[39m\u001b[39mr\u001b[39m\u001b[39m'\u001b[39m:\n\u001b[0;32m-> 1266\u001b[0m         \u001b[39mself\u001b[39;49m\u001b[39m.\u001b[39;49m_RealGetContents()\n\u001b[1;32m   1267\u001b[0m     \u001b[39melif\u001b[39;00m mode \u001b[39min\u001b[39;00m (\u001b[39m'\u001b[39m\u001b[39mw\u001b[39m\u001b[39m'\u001b[39m, \u001b[39m'\u001b[39m\u001b[39mx\u001b[39m\u001b[39m'\u001b[39m):\n\u001b[1;32m   1268\u001b[0m         \u001b[39m# set the modified flag so central directory gets written\u001b[39;00m\n\u001b[1;32m   1269\u001b[0m         \u001b[39m# even if no files are added to the archive\u001b[39;00m\n\u001b[1;32m   1270\u001b[0m         \u001b[39mself\u001b[39m\u001b[39m.\u001b[39m_didModify \u001b[39m=\u001b[39m \u001b[39mTrue\u001b[39;00m\n",
      "File \u001b[0;32m~/anaconda3/envs/creamfl/lib/python3.9/zipfile.py:1333\u001b[0m, in \u001b[0;36mZipFile._RealGetContents\u001b[0;34m(self)\u001b[0m\n\u001b[1;32m   1331\u001b[0m     \u001b[39mraise\u001b[39;00m BadZipFile(\u001b[39m\"\u001b[39m\u001b[39mFile is not a zip file\u001b[39m\u001b[39m\"\u001b[39m)\n\u001b[1;32m   1332\u001b[0m \u001b[39mif\u001b[39;00m \u001b[39mnot\u001b[39;00m endrec:\n\u001b[0;32m-> 1333\u001b[0m     \u001b[39mraise\u001b[39;00m BadZipFile(\u001b[39m\"\u001b[39m\u001b[39mFile is not a zip file\u001b[39m\u001b[39m\"\u001b[39m)\n\u001b[1;32m   1334\u001b[0m \u001b[39mif\u001b[39;00m \u001b[39mself\u001b[39m\u001b[39m.\u001b[39mdebug \u001b[39m>\u001b[39m \u001b[39m1\u001b[39m:\n\u001b[1;32m   1335\u001b[0m     \u001b[39mprint\u001b[39m(endrec)\n",
      "\u001b[0;31mBadZipFile\u001b[0m: File is not a zip file"
     ]
    }
   ],
   "source": [
    "# Specify the path to the ZIP file\n",
    "zip_file_path = \"/home2/sgrosso/CreamFL/val2014.zip\"  # Replace with the actual path to your ZIP file\n",
    "\n",
    "# Specify the destination directory for extracted files\n",
    "destination_directory = \"data/mmdata/MSCOCO/2014/\"  # Replace with the desired destination directory\n",
    "\n",
    "# Extract the ZIP file to the destination directory\n",
    "with zipfile.ZipFile(zip_file_path, 'r') as zip_ref:\n",
    "    zip_ref.extractall(destination_directory)"
   ]
  },
  {
   "cell_type": "code",
   "execution_count": 3,
   "metadata": {},
   "outputs": [
    {
     "data": {
      "text/plain": [
       "'data/mmdata/MSCOCO/2014/allimages'"
      ]
     },
     "execution_count": 3,
     "metadata": {},
     "output_type": "execute_result"
    }
   ],
   "source": [
    "# Define the paths of the folders\n",
    "train_images = 'data/mmdata/MSCOCO/2014/train2014'\n",
    "all_images = 'data/mmdata/MSCOCO/2014/allimages'\n",
    "\n",
    "# Remove folder_B if it already exists\n",
    "if os.path.exists(all_images):\n",
    "    shutil.rmtree(all_images)\n",
    "\n",
    "# Copy the contents of folder_A to folder_B\n",
    "shutil.copytree(train_images, all_images)\n"
   ]
  },
  {
   "cell_type": "code",
   "execution_count": 4,
   "metadata": {},
   "outputs": [
    {
     "data": {
      "text/plain": [
       "'data/mmdata/MSCOCO/2014/allimages'"
      ]
     },
     "execution_count": 4,
     "metadata": {},
     "output_type": "execute_result"
    }
   ],
   "source": [
    "# Define the paths of the folders\n",
    "val_images = 'data/mmdata/MSCOCO/2014/val2014'\n",
    "\n",
    "# Remove folder_B if it already exists\n",
    "if os.path.exists(all_images):\n",
    "    shutil.rmtree(all_images)\n",
    "\n",
    "# Copy the contents of folder_A to folder_B\n",
    "shutil.copytree(val_images, all_images)\n"
   ]
  },
  {
   "cell_type": "code",
   "execution_count": null,
   "metadata": {},
   "outputs": [],
   "source": [
    "# Define the paths of the folders\n",
    "val_images = 'data/mmdata/MSCOCO/2014/val2014'\n",
    "\n",
    "# Remove folder_B if it already exists\n",
    "if os.path.exists(all_images):\n",
    "    shutil.rmtree(all_images)\n",
    "\n",
    "# Copy the contents of folder_A to folder_B\n",
    "shutil.copytree(val_images, all_images)"
   ]
  },
  {
   "cell_type": "code",
   "execution_count": 6,
   "metadata": {},
   "outputs": [],
   "source": [
    "zip_path = \"/home2/sgrosso/CreamFL/test2014.zip\"  # Replace \"file.zip\" with the actual name of your ZIP file\n",
    "\n",
    "with zipfile.ZipFile(zip_path, 'r') as zip_ref:\n",
    "    zip_ref.extractall()"
   ]
  },
  {
   "cell_type": "code",
   "execution_count": 17,
   "metadata": {},
   "outputs": [
    {
     "name": "stdout",
     "output_type": "stream",
     "text": [
      "Files moved successfully!\n"
     ]
    }
   ],
   "source": [
    "# Get the list of files in folder_A\n",
    "file_list = os.listdir(val_images)\n",
    "\n",
    "# Move each file from folder_A to folder_B\n",
    "for file_name in file_list:\n",
    "    # Create the source and destination file paths\n",
    "    source = os.path.join(val_images, file_name)\n",
    "    destination = os.path.join(all_images, file_name)\n",
    "    \n",
    "    # Move the file\n",
    "    shutil.move(source, destination)\n",
    "\n",
    "print(\"Files moved successfully!\")\n"
   ]
  },
  {
   "cell_type": "code",
   "execution_count": 4,
   "metadata": {},
   "outputs": [
    {
     "name": "stdout",
     "output_type": "stream",
     "text": [
      "Number of files in folder_A: 164062\n"
     ]
    }
   ],
   "source": [
    "\n",
    "# Count the number of files in folder_A\n",
    "file_count = sum(len(files) for _, _, files in os.walk('data/mmdata/MSCOCO/2014/allimages'))\n",
    "\n",
    "# Print the result\n",
    "print(f\"Number of files in folder_A: {file_count}\")\n"
   ]
  },
  {
   "cell_type": "code",
   "execution_count": 7,
   "metadata": {},
   "outputs": [
    {
     "name": "stdout",
     "output_type": "stream",
     "text": [
      "Number of files in folder_A: 0\n"
     ]
    }
   ],
   "source": [
    "# Count the number of files in folder_A\n",
    "file_count = sum(len(files) for _, _, files in os.walk('/data/mmdata/MSCOCO/2014/train2014'))\n",
    "\n",
    "# Print the result\n",
    "print(f\"Number of files in folder_A: {file_count}\")\n"
   ]
  },
  {
   "cell_type": "code",
   "execution_count": 11,
   "metadata": {},
   "outputs": [
    {
     "data": {
      "text/plain": [
       "164062"
      ]
     },
     "execution_count": 11,
     "metadata": {},
     "output_type": "execute_result"
    }
   ],
   "source": [
    "40775 + 82783 + 40504\n"
   ]
  },
  {
   "cell_type": "code",
   "execution_count": 9,
   "metadata": {},
   "outputs": [
    {
     "name": "stdout",
     "output_type": "stream",
     "text": [
      "Number of files in folder_A: 4\n"
     ]
    }
   ],
   "source": [
    "# Count the number of files in folder_A\n",
    "file_count = sum(len(files) for _, _, files in os.walk('/home2/sgrosso/CreamFL/data/cifar100'))\n",
    "\n",
    "# Print the result\n",
    "print(f\"Number of files in folder_A: {file_count}\")"
   ]
  },
  {
   "cell_type": "markdown",
   "metadata": {},
   "source": [
    "### Subsample of MSCOCO"
   ]
  },
  {
   "cell_type": "code",
   "execution_count": 6,
   "metadata": {},
   "outputs": [
    {
     "name": "stdout",
     "output_type": "stream",
     "text": [
      "164062\n"
     ]
    }
   ],
   "source": [
    "allimages = '/home2/sgrosso/data/mmdata/MSCOCO/2014/allimages'\n",
    "print(len(os.listdir(allimages)))"
   ]
  },
  {
   "cell_type": "code",
   "execution_count": 10,
   "metadata": {},
   "outputs": [
    {
     "name": "stdout",
     "output_type": "stream",
     "text": [
      "train files: 82783\n",
      "val files: 40504\n"
     ]
    }
   ],
   "source": [
    "length_train=len([file_name for file_name in os.listdir(allimages) if \"train\" in file_name])\n",
    "length_val=len([file_name for file_name in os.listdir(allimages) if \"val\" in file_name])\n",
    "print('train files:',length_train)\n",
    "print('val files:',length_val)\n"
   ]
  },
  {
   "cell_type": "code",
   "execution_count": null,
   "metadata": {},
   "outputs": [],
   "source": []
  }
 ],
 "metadata": {
  "kernelspec": {
   "display_name": "creamfl",
   "language": "python",
   "name": "python3"
  },
  "language_info": {
   "codemirror_mode": {
    "name": "ipython",
    "version": 3
   },
   "file_extension": ".py",
   "mimetype": "text/x-python",
   "name": "python",
   "nbconvert_exporter": "python",
   "pygments_lexer": "ipython3",
   "version": "3.9.16"
  },
  "orig_nbformat": 4
 },
 "nbformat": 4,
 "nbformat_minor": 2
}
