{
 "cells": [
  {
   "cell_type": "markdown",
   "metadata": {},
   "source": [
    "### Settings\n",
    "\n",
    "**1' experiment: CreamFL (default)**\n",
    "\n",
    "python src/main.py --name CreamFL --server_lr 1e-5 --agg_method con_w --contrast_local_inter --contrast_local_intra --interintra_weight 0.5\n",
    "\n",
    "- 30 communication rounds\n",
    "- global model is resnet18\n",
    "- 10 clients per round (out 0f 35: 10:i, 10_t, 15_mm)\n",
    "- alpha 0.5\n",
    "- local model resnet10\n",
    "- global model resnet34\n",
    "- batch size 64\n",
    "- l.r. 0.1\n",
    "- server l.r. 0.00001\n",
    "- multistep scheduler\n",
    "- feature dim 256\n",
    "\n",
    "It is necessary to lighten the process so that the convergence of metrics can be achieved in no more than 3 hours.\n",
    "\n",
    "With default setting 1 full FL round needs ~80 minutes;\n",
    "After 12 rounds these are the results:\n",
    "\n",
    "<div style=\"display: flex; justify-content: center;\">\n",
    "    <img src=\"image.png\" alt=\"Alt text\" style=\"max-width: 50%; margin-right: 10px;\">\n",
    "    <img src=\"image-1.png\" alt=\"Alt text\" style=\"max-width: 50%;\">\n",
    "</div>\n",
    "\n"
   ]
  },
  {
   "cell_type": "markdown",
   "metadata": {},
   "source": [
    "**2' experiment: lighten_CreamFL3**\n",
    "\n",
    "python src/main.py --name lighten_CreamFL3 --exp_dir ./experiments/ --comm_rounds 3 --model resnet18 --num_img_clients 2 --num_txt_clients 2 --num_mm_clients 3 --alpha 0.1 --client_num_per_round 7 --batch_size 32 --scheduler cosine --agg_method con_w --contrast_local_inter --contrast_local_intra --interintra_weight 0.5 --feature_dim 64\n",
    "\n",
    "- 3 communication rounds\n",
    "- global model is resnet18\n",
    "- 7 total clients (2_i, 2_t, 3_mm)\n",
    "- alpha 0.1\n",
    "- batch size 32\n",
    "- dynamic cosine l.r. scheduler\n",
    "- feature dim 64"
   ]
  },
  {
   "cell_type": "markdown",
   "metadata": {},
   "source": [
    "**3' experiment: 3c_CreamFL**\n",
    "\n",
    "python src/main.py --name 3c_CreamFL --exp_dir ./experiments/ --comm_rounds 4 --model resnet18 --num_img_clients 1 --num_txt_clients 1 --num_mm_clients 1 --alpha 0.5 --client_num_per_round 3 --batch_size 32 --scheduler cosine --agg_method con_w --contrast_local_inter --contrast_local_intra --interintra_weight 0.5 --feature_dim 64\n",
    "\n",
    "- 4 communication rounds\n",
    "- global model is resnet18\n",
    "- 3 total clients (1_i, 1_t, 1_mm)\n",
    "- alpha 0.5\n",
    "- batch size 32\n",
    "- dynamic cosine l.r. scheduler\n",
    "- feature dim 64"
   ]
  },
  {
   "cell_type": "markdown",
   "metadata": {},
   "source": []
  }
 ],
 "metadata": {
  "kernelspec": {
   "display_name": "creamfl",
   "language": "python",
   "name": "python3"
  },
  "language_info": {
   "codemirror_mode": {
    "name": "ipython",
    "version": 3
   },
   "file_extension": ".py",
   "mimetype": "text/x-python",
   "name": "python",
   "nbconvert_exporter": "python",
   "pygments_lexer": "ipython3",
   "version": "3.9.16"
  },
  "orig_nbformat": 4
 },
 "nbformat": 4,
 "nbformat_minor": 2
}
