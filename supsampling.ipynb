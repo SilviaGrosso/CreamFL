{
 "cells": [
  {
   "cell_type": "markdown",
   "metadata": {},
   "source": [
    "### Libraries\n"
   ]
  },
  {
   "cell_type": "code",
   "execution_count": 1,
   "metadata": {},
   "outputs": [],
   "source": [
    "import pandas as pd"
   ]
  },
  {
   "cell_type": "markdown",
   "metadata": {},
   "source": [
    "### Subsample AG_NEWS"
   ]
  },
  {
   "cell_type": "markdown",
   "metadata": {},
   "source": [
    "Starting from 120000 records in train / 7600 test with 4 classes we will obtain:\n",
    "- train with 20k records\n",
    "- text with 1264 records \n",
    "\n",
    "each class equally represented."
   ]
  },
  {
   "cell_type": "code",
   "execution_count": 10,
   "metadata": {},
   "outputs": [
    {
     "name": "stdout",
     "output_type": "stream",
     "text": [
      "AG_NEWS train shape: (120000, 3)\n",
      "AG_NEWS test shape: (7600, 3)\n"
     ]
    }
   ],
   "source": [
    "train_ag = pd.read_csv('/home2/sgrosso/data/AG_NEWS/train.csv')\n",
    "test_ag = pd.read_csv('/home2/sgrosso/data/AG_NEWS/test.csv')\n",
    "\n",
    "print('AG_NEWS train shape:', train_ag.shape)\n",
    "print('AG_NEWS test shape:', test_ag.shape)"
   ]
  },
  {
   "cell_type": "code",
   "execution_count": 38,
   "metadata": {},
   "outputs": [
    {
     "data": {
      "text/plain": [
       "(20000, 3)"
      ]
     },
     "execution_count": 38,
     "metadata": {},
     "output_type": "execute_result"
    }
   ],
   "source": [
    "#TRAIN\n",
    "#count of samples for each class\n",
    "class_counts = train_ag['Class Index'].value_counts()\n",
    "\n",
    "subsample_size = class_counts // 6\n",
    "\n",
    "# init subsampled train ds\n",
    "ss_train = pd.DataFrame(columns=train_ag.columns)\n",
    "\n",
    "# subsample for each class\n",
    "for class_label, count in subsample_size.items():\n",
    "    class_data = train_ag[train_ag['Class Index'] == class_label]\n",
    "    sampled_indices = class_data.sample(count).index\n",
    "    ss_train = pd.concat([ss_train, train_ag.loc[sampled_indices]])\n",
    "\n",
    "# Reset the index of the subsampled DataFrame\n",
    "ss_train.reset_index(drop=True, inplace=True)\n",
    "\n",
    "ss_train.shape"
   ]
  },
  {
   "cell_type": "code",
   "execution_count": 39,
   "metadata": {},
   "outputs": [],
   "source": [
    "ss_train.to_csv('train.csv', index=False)"
   ]
  },
  {
   "cell_type": "code",
   "execution_count": 40,
   "metadata": {},
   "outputs": [
    {
     "data": {
      "text/plain": [
       "(1264, 3)"
      ]
     },
     "execution_count": 40,
     "metadata": {},
     "output_type": "execute_result"
    }
   ],
   "source": [
    "##TEST\n",
    "#count of samples for each class\n",
    "class_counts = test_ag['Class Index'].value_counts()\n",
    "\n",
    "subsample_size = class_counts // 6\n",
    "\n",
    "# init subsampled train ds\n",
    "ss_test = pd.DataFrame(columns=test_ag.columns)\n",
    "\n",
    "# subsample for each class\n",
    "for class_label, count in subsample_size.items():\n",
    "    class_data = test_ag[test_ag['Class Index'] == class_label]\n",
    "    sampled_indices = class_data.sample(count).index\n",
    "    ss_test = pd.concat([ss_test, test_ag.loc[sampled_indices]])\n",
    "\n",
    "# Reset the index of the subsampled DataFrame\n",
    "ss_test.reset_index(drop=True, inplace=True)\n",
    "\n",
    "ss_test.shape"
   ]
  },
  {
   "cell_type": "code",
   "execution_count": 42,
   "metadata": {},
   "outputs": [],
   "source": [
    "ss_test.to_csv('test.csv', index=False)"
   ]
  },
  {
   "cell_type": "markdown",
   "metadata": {},
   "source": [
    "### Subsample cifar100"
   ]
  },
  {
   "cell_type": "code",
   "execution_count": null,
   "metadata": {},
   "outputs": [],
   "source": []
  }
 ],
 "metadata": {
  "kernelspec": {
   "display_name": "Python 3",
   "language": "python",
   "name": "python3"
  },
  "language_info": {
   "codemirror_mode": {
    "name": "ipython",
    "version": 3
   },
   "file_extension": ".py",
   "mimetype": "text/x-python",
   "name": "python",
   "nbconvert_exporter": "python",
   "pygments_lexer": "ipython3",
   "version": "3.9.16"
  },
  "orig_nbformat": 4
 },
 "nbformat": 4,
 "nbformat_minor": 2
}
