{
 "cells": [
  {
   "cell_type": "markdown",
   "metadata": {},
   "source": [
    "### Libraries\n"
   ]
  },
  {
   "cell_type": "code",
   "execution_count": 79,
   "metadata": {},
   "outputs": [],
   "source": [
    "import pandas as pd\n",
    "import numpy as np\n",
    "import random\n",
    "import os\n",
    "import pickle\n",
    "from PIL import Image\n",
    "from collections import defaultdict\n",
    "import matplotlib.pyplot as plt"
   ]
  },
  {
   "cell_type": "markdown",
   "metadata": {},
   "source": [
    "### Subsample AG_NEWS"
   ]
  },
  {
   "cell_type": "markdown",
   "metadata": {},
   "source": [
    "Starting from 120000 records in train / 7600 test with 4 classes we will obtain:\n",
    "- train with 20k records\n",
    "- text with 1264 records \n",
    "\n",
    "each class equally represented."
   ]
  },
  {
   "cell_type": "code",
   "execution_count": 9,
   "metadata": {},
   "outputs": [
    {
     "name": "stdout",
     "output_type": "stream",
     "text": [
      "AG_NEWS train shape: (120000, 3)\n",
      "AG_NEWS test shape: (7600, 3)\n"
     ]
    }
   ],
   "source": [
    "train_ag = pd.read_csv('/home2/sgrosso/data/AG_NEWS/train.csv', sep=',', header=None,\n",
    "                       names=['class','title', 'description'])\n",
    "test_ag = pd.read_csv('/home2/sgrosso/data/AG_NEWS/test.csv', sep=',', header=None,\n",
    "                       names=['class','title', 'description'])\n",
    "\n",
    "print('AG_NEWS train shape:', train_ag.shape)\n",
    "print('AG_NEWS test shape:', test_ag.shape)"
   ]
  },
  {
   "cell_type": "code",
   "execution_count": 11,
   "metadata": {},
   "outputs": [
    {
     "data": {
      "text/html": [
       "<div>\n",
       "<style scoped>\n",
       "    .dataframe tbody tr th:only-of-type {\n",
       "        vertical-align: middle;\n",
       "    }\n",
       "\n",
       "    .dataframe tbody tr th {\n",
       "        vertical-align: top;\n",
       "    }\n",
       "\n",
       "    .dataframe thead th {\n",
       "        text-align: right;\n",
       "    }\n",
       "</style>\n",
       "<table border=\"1\" class=\"dataframe\">\n",
       "  <thead>\n",
       "    <tr style=\"text-align: right;\">\n",
       "      <th></th>\n",
       "      <th>class</th>\n",
       "      <th>title</th>\n",
       "      <th>description</th>\n",
       "    </tr>\n",
       "  </thead>\n",
       "  <tbody>\n",
       "    <tr>\n",
       "      <th>0</th>\n",
       "      <td>3</td>\n",
       "      <td>Fears for T N pension after talks</td>\n",
       "      <td>Unions representing workers at Turner   Newall...</td>\n",
       "    </tr>\n",
       "    <tr>\n",
       "      <th>1</th>\n",
       "      <td>4</td>\n",
       "      <td>The Race is On: Second Private Team Sets Launc...</td>\n",
       "      <td>SPACE.com - TORONTO, Canada -- A second\\team o...</td>\n",
       "    </tr>\n",
       "    <tr>\n",
       "      <th>2</th>\n",
       "      <td>4</td>\n",
       "      <td>Ky. Company Wins Grant to Study Peptides (AP)</td>\n",
       "      <td>AP - A company founded by a chemistry research...</td>\n",
       "    </tr>\n",
       "    <tr>\n",
       "      <th>3</th>\n",
       "      <td>4</td>\n",
       "      <td>Prediction Unit Helps Forecast Wildfires (AP)</td>\n",
       "      <td>AP - It's barely dawn when Mike Fitzpatrick st...</td>\n",
       "    </tr>\n",
       "    <tr>\n",
       "      <th>4</th>\n",
       "      <td>4</td>\n",
       "      <td>Calif. Aims to Limit Farm-Related Smog (AP)</td>\n",
       "      <td>AP - Southern California's smog-fighting agenc...</td>\n",
       "    </tr>\n",
       "  </tbody>\n",
       "</table>\n",
       "</div>"
      ],
      "text/plain": [
       "   class                                              title  \\\n",
       "0      3                  Fears for T N pension after talks   \n",
       "1      4  The Race is On: Second Private Team Sets Launc...   \n",
       "2      4      Ky. Company Wins Grant to Study Peptides (AP)   \n",
       "3      4      Prediction Unit Helps Forecast Wildfires (AP)   \n",
       "4      4        Calif. Aims to Limit Farm-Related Smog (AP)   \n",
       "\n",
       "                                         description  \n",
       "0  Unions representing workers at Turner   Newall...  \n",
       "1  SPACE.com - TORONTO, Canada -- A second\\team o...  \n",
       "2  AP - A company founded by a chemistry research...  \n",
       "3  AP - It's barely dawn when Mike Fitzpatrick st...  \n",
       "4  AP - Southern California's smog-fighting agenc...  "
      ]
     },
     "execution_count": 11,
     "metadata": {},
     "output_type": "execute_result"
    }
   ],
   "source": [
    "test_ag.head(5)"
   ]
  },
  {
   "cell_type": "code",
   "execution_count": 13,
   "metadata": {},
   "outputs": [
    {
     "data": {
      "text/plain": [
       "3    30000\n",
       "4    30000\n",
       "2    30000\n",
       "1    30000\n",
       "Name: class, dtype: int64"
      ]
     },
     "execution_count": 13,
     "metadata": {},
     "output_type": "execute_result"
    }
   ],
   "source": [
    "#TRAIN\n",
    "#count of samples for each class\n",
    "train_ag['class'].value_counts()"
   ]
  },
  {
   "cell_type": "code",
   "execution_count": 14,
   "metadata": {},
   "outputs": [
    {
     "data": {
      "text/plain": [
       "(20000, 3)"
      ]
     },
     "execution_count": 14,
     "metadata": {},
     "output_type": "execute_result"
    }
   ],
   "source": [
    "#TRAIN\n",
    "#count of samples for each class\n",
    "class_counts = train_ag['class'].value_counts()\n",
    "\n",
    "subsample_size = class_counts // 6\n",
    "\n",
    "# init subsampled train ds\n",
    "ss_train = pd.DataFrame(columns=train_ag.columns)\n",
    "\n",
    "# subsample for each class\n",
    "for class_label, count in subsample_size.items():\n",
    "    class_data = train_ag[train_ag['class'] == class_label]\n",
    "    sampled_indices = class_data.sample(count).index\n",
    "    ss_train = pd.concat([ss_train, train_ag.loc[sampled_indices]])\n",
    "\n",
    "# Reset the index of the subsampled DataFrame\n",
    "ss_train.reset_index(drop=True, inplace=True)\n",
    "\n",
    "ss_train.shape"
   ]
  },
  {
   "cell_type": "code",
   "execution_count": 17,
   "metadata": {},
   "outputs": [],
   "source": [
    "ss_train.to_csv('train.csv', index=False, header=False)"
   ]
  },
  {
   "cell_type": "markdown",
   "metadata": {},
   "source": [
    "let's make the same thing for test"
   ]
  },
  {
   "cell_type": "code",
   "execution_count": 18,
   "metadata": {},
   "outputs": [
    {
     "data": {
      "text/plain": [
       "3    1900\n",
       "4    1900\n",
       "2    1900\n",
       "1    1900\n",
       "Name: class, dtype: int64"
      ]
     },
     "execution_count": 18,
     "metadata": {},
     "output_type": "execute_result"
    }
   ],
   "source": [
    "test_ag['class'].value_counts()"
   ]
  },
  {
   "cell_type": "code",
   "execution_count": 19,
   "metadata": {},
   "outputs": [
    {
     "data": {
      "text/plain": [
       "(1264, 3)"
      ]
     },
     "execution_count": 19,
     "metadata": {},
     "output_type": "execute_result"
    }
   ],
   "source": [
    "##TEST\n",
    "#count of samples for each class\n",
    "class_counts = test_ag['class'].value_counts()\n",
    "\n",
    "subsample_size = class_counts // 6\n",
    "\n",
    "# init subsampled train ds\n",
    "ss_test = pd.DataFrame(columns=test_ag.columns)\n",
    "\n",
    "# subsample for each class\n",
    "for class_label, count in subsample_size.items():\n",
    "    class_data = test_ag[test_ag['class'] == class_label]\n",
    "    sampled_indices = class_data.sample(count).index\n",
    "    ss_test = pd.concat([ss_test, test_ag.loc[sampled_indices]])\n",
    "\n",
    "# Reset the index of the subsampled DataFrame\n",
    "ss_test.reset_index(drop=True, inplace=True)\n",
    "\n",
    "ss_test.shape"
   ]
  },
  {
   "cell_type": "code",
   "execution_count": 20,
   "metadata": {},
   "outputs": [],
   "source": [
    "ss_test.to_csv('test.csv', index=False, header=False)"
   ]
  },
  {
   "cell_type": "markdown",
   "metadata": {},
   "source": [
    "### Subsample cifar100"
   ]
  },
  {
   "cell_type": "markdown",
   "metadata": {},
   "source": [
    "60k 32x32 images in total, 100 classes(grouped in 20 superclasses) and 600 images per class.\n",
    "Starting from 50k images in train (500x100fine, 2500x20coarse) / 10k in test (100x100fine, 500x20coarse), we will obtain:\n",
    "- train with 8300 records \n",
    "- text with 1600 records"
   ]
  },
  {
   "cell_type": "code",
   "execution_count": 92,
   "metadata": {},
   "outputs": [
    {
     "name": "stdout",
     "output_type": "stream",
     "text": [
      "{'fine_label_names': ['apple', 'aquarium_fish', 'baby', 'bear', 'beaver', 'bed', 'bee', 'beetle', 'bicycle', 'bottle', 'bowl', 'boy', 'bridge', 'bus', 'butterfly', 'camel', 'can', 'castle', 'caterpillar', 'cattle', 'chair', 'chimpanzee', 'clock', 'cloud', 'cockroach', 'couch', 'crab', 'crocodile', 'cup', 'dinosaur', 'dolphin', 'elephant', 'flatfish', 'forest', 'fox', 'girl', 'hamster', 'house', 'kangaroo', 'keyboard', 'lamp', 'lawn_mower', 'leopard', 'lion', 'lizard', 'lobster', 'man', 'maple_tree', 'motorcycle', 'mountain', 'mouse', 'mushroom', 'oak_tree', 'orange', 'orchid', 'otter', 'palm_tree', 'pear', 'pickup_truck', 'pine_tree', 'plain', 'plate', 'poppy', 'porcupine', 'possum', 'rabbit', 'raccoon', 'ray', 'road', 'rocket', 'rose', 'sea', 'seal', 'shark', 'shrew', 'skunk', 'skyscraper', 'snail', 'snake', 'spider', 'squirrel', 'streetcar', 'sunflower', 'sweet_pepper', 'table', 'tank', 'telephone', 'television', 'tiger', 'tractor', 'train', 'trout', 'tulip', 'turtle', 'wardrobe', 'whale', 'willow_tree', 'wolf', 'woman', 'worm'], 'coarse_label_names': ['aquatic_mammals', 'fish', 'flowers', 'food_containers', 'fruit_and_vegetables', 'household_electrical_devices', 'household_furniture', 'insects', 'large_carnivores', 'large_man-made_outdoor_things', 'large_natural_outdoor_scenes', 'large_omnivores_and_herbivores', 'medium_mammals', 'non-insect_invertebrates', 'people', 'reptiles', 'small_mammals', 'trees', 'vehicles_1', 'vehicles_2']}\n"
     ]
    }
   ],
   "source": [
    "meta_file_path = '/home2/sgrosso/data/cifar100/cifar-100-python/meta'\n",
    "with open(meta_file_path, 'rb') as f:\n",
    "    meta_data = pickle.load(f)\n",
    "\n",
    "print(meta_data)\n"
   ]
  },
  {
   "cell_type": "code",
   "execution_count": 42,
   "metadata": {},
   "outputs": [
    {
     "name": "stdout",
     "output_type": "stream",
     "text": [
      "keys in dict:  dict_keys(['fine_label_names', 'coarse_label_names'])\n",
      "number of fine labels:  100\n",
      "number of coarse labels:  20\n"
     ]
    }
   ],
   "source": [
    "print('keys in dict: ',meta_data.keys())\n",
    "print('number of fine labels: ',len(meta_data['fine_label_names']))\n",
    "print('number of coarse labels: ',len(meta_data['coarse_label_names']))"
   ]
  },
  {
   "cell_type": "code",
   "execution_count": 69,
   "metadata": {},
   "outputs": [],
   "source": [
    "def load_cifar_batch(filename):\n",
    "    with open(filename, 'rb') as f:\n",
    "        data_batch = pickle.load(f, encoding='bytes')\n",
    "    return data_batch\n",
    "\n",
    "train_data = load_cifar_batch('/home2/sgrosso/data/cifar100/cifar-100-python/train')\n",
    "test_data = load_cifar_batch('/home2/sgrosso/data/cifar100/cifar-100-python/test')"
   ]
  },
  {
   "cell_type": "code",
   "execution_count": 74,
   "metadata": {},
   "outputs": [],
   "source": [
    "train_images = train_data[b'data']\n",
    "train_fine_labels = train_data[b'fine_labels']\n",
    "train_coarse_labels = train_data[b'coarse_labels']\n",
    "\n",
    "test_images = test_data[b'data']\n",
    "test_fine_labels = test_data[b'fine_labels']\n",
    "test_coarse_labels = test_data[b'coarse_labels']\n"
   ]
  },
  {
   "cell_type": "code",
   "execution_count": 90,
   "metadata": {},
   "outputs": [
    {
     "name": "stdout",
     "output_type": "stream",
     "text": [
      "Fine Label: television\n",
      "Coarse Label: household_electrical_devices\n"
     ]
    },
    {
     "data": {
      "image/png": "[encoded data removed]",
      "text/plain": [
       "<Figure size 100x100 with 1 Axes>"
      ]
     },
     "metadata": {},
     "output_type": "display_data"
    }
   ],
   "source": [
    "index = random.randrange(len(train_images))\n",
    "\n",
    "# Extract labels\n",
    "fine_label_index = train_fine_labels[index]\n",
    "coarse_label_index = train_coarse_labels[index]\n",
    "\n",
    "fine_label_name = meta_data['fine_label_names'][fine_label_index]\n",
    "coarse_label_name = meta_data['coarse_label_names'][coarse_label_index]\n",
    "\n",
    "# Reshape the image and create a PIL Image object\n",
    "image_data = np.reshape(train_images[index], (3, 32, 32)).transpose(1, 2, 0)\n",
    "pil_image = Image.fromarray(image_data)\n",
    "\n",
    "# Display the image using matplotlib with a smaller size\n",
    "plt.figure(figsize=(1, 1))  # Set the figure size to 32x32 pixels\n",
    "plt.imshow(pil_image)\n",
    "print(f\"Fine Label: {fine_label_name}\\nCoarse Label: {coarse_label_name}\")\n",
    "plt.axis('off')\n",
    "plt.show()"
   ]
  },
  {
   "cell_type": "code",
   "execution_count": 60,
   "metadata": {},
   "outputs": [],
   "source": [
    "num_images_to_keep = len(train_images) // 6 "
   ]
  },
  {
   "cell_type": "code",
   "execution_count": 61,
   "metadata": {},
   "outputs": [],
   "source": [
    "def group_indices_by_label(labels):\n",
    "    label_indices = defaultdict(list)\n",
    "    for idx, label in enumerate(labels):\n",
    "        label_indices[label].append(idx)\n",
    "    return label_indices\n",
    "\n",
    "train_fine_label_indices = group_indices_by_label(train_fine_labels)\n",
    "train_coarse_label_indices = group_indices_by_label(train_coarse_labels)\n",
    "\n",
    "test_fine_label_indices = group_indices_by_label(test_fine_labels)\n",
    "test_coarse_label_indices = group_indices_by_label(test_coarse_labels)"
   ]
  },
  {
   "cell_type": "code",
   "execution_count": 62,
   "metadata": {},
   "outputs": [],
   "source": [
    "def sub_sample_indices(label_indices, num_to_keep):\n",
    "    sampled_indices = []\n",
    "    for label, indices in label_indices.items():\n",
    "        num_samples_for_label = int(num_to_keep * len(indices) / len(train_images))\n",
    "        sampled_indices.extend(indices[:num_samples_for_label])\n",
    "    return sampled_indices\n",
    "\n",
    "train_sampled_indices = sub_sample_indices(train_fine_label_indices, num_images_to_keep)\n",
    "test_sampled_indices = sub_sample_indices(test_fine_label_indices, num_images_to_keep)\n",
    "\n",
    "# Estrai le immagini e le etichette sottocampionate\n",
    "subsampled_train_images = train_images[train_sampled_indices]\n",
    "subsampled_train_fine_labels = np.array(train_fine_labels)[train_sampled_indices]\n",
    "subsampled_train_coarse_labels = np.array(train_coarse_labels)[train_sampled_indices]\n",
    "\n",
    "subsampled_test_images = test_images[test_sampled_indices]\n",
    "subsampled_test_fine_labels = np.array(test_fine_labels)[test_sampled_indices]\n",
    "subsampled_test_coarse_labels = np.array(test_coarse_labels)[test_sampled_indices]\n"
   ]
  },
  {
   "cell_type": "code",
   "execution_count": 69,
   "metadata": {},
   "outputs": [
    {
     "name": "stdout",
     "output_type": "stream",
     "text": [
      "Il numero 11 appare 415 volte\n",
      "Il numero 15 appare 415 volte\n",
      "Il numero 4 appare 415 volte\n",
      "Il numero 14 appare 415 volte\n",
      "Il numero 1 appare 415 volte\n",
      "Il numero 5 appare 415 volte\n",
      "Il numero 18 appare 415 volte\n",
      "Il numero 3 appare 415 volte\n",
      "Il numero 10 appare 415 volte\n",
      "Il numero 17 appare 415 volte\n",
      "Il numero 2 appare 415 volte\n",
      "Il numero 9 appare 415 volte\n",
      "Il numero 8 appare 415 volte\n",
      "Il numero 16 appare 415 volte\n",
      "Il numero 6 appare 415 volte\n",
      "Il numero 12 appare 415 volte\n",
      "Il numero 19 appare 415 volte\n",
      "Il numero 7 appare 415 volte\n",
      "Il numero 13 appare 415 volte\n",
      "Il numero 0 appare 415 volte\n"
     ]
    }
   ],
   "source": [
    "from collections import Counter\n",
    "\n",
    "# Stampa il conteggio delle ripetizioni per ciascun numero\n",
    "for numero, conteggio in Counter(subsampled_train_coarse_labels).items():\n",
    "    print(f\"Il numero {numero} appare {conteggio} volte\")\n"
   ]
  },
  {
   "cell_type": "code",
   "execution_count": 73,
   "metadata": {},
   "outputs": [
    {
     "name": "stdout",
     "output_type": "stream",
     "text": [
      "train from (50000, 3072) to (8300, 3072)\n",
      "train from (10000, 3072) to (1600, 3072)\n"
     ]
    }
   ],
   "source": [
    "print('train from', train_images.shape, 'to', subsampled_train_images.shape)\n",
    "print('test from', test_images.shape, 'to', subsampled_test_images.shape)"
   ]
  },
  {
   "cell_type": "markdown",
   "metadata": {},
   "source": [
    "### Subsample Flickr30k"
   ]
  },
  {
   "cell_type": "markdown",
   "metadata": {},
   "source": []
  },
  {
   "cell_type": "markdown",
   "metadata": {},
   "source": [
    "### Subsample MSCOCO"
   ]
  },
  {
   "cell_type": "markdown",
   "metadata": {},
   "source": []
  }
 ],
 "metadata": {
  "kernelspec": {
   "display_name": "Python 3",
   "language": "python",
   "name": "python3"
  },
  "language_info": {
   "codemirror_mode": {
    "name": "ipython",
    "version": 3
   },
   "file_extension": ".py",
   "mimetype": "text/x-python",
   "name": "python",
   "nbconvert_exporter": "python",
   "pygments_lexer": "ipython3",
   "version": "3.9.16"
  },
  "orig_nbformat": 4
 },
 "nbformat": 4,
 "nbformat_minor": 2
}
